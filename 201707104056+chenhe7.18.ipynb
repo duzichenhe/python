{
 "cells": [
  {
   "cell_type": "markdown",
   "metadata": {},
   "source": [
    "# 选择\n",
    "## 布尔类型、数值和表达式\n",
    "![](../Photo/33.png)\n",
    "- 注意：比较运算符的相等是两个等号，一个等到代表赋值\n",
    "- 在Python中可以用整型0来代表False，其他数字来代表True\n",
    "- 后面还会讲到 is 在判断语句中的用发"
   ]
  },
  {
   "cell_type": "code",
   "execution_count": 4,
   "metadata": {},
   "outputs": [
    {
     "data": {
      "text/plain": [
       "False"
      ]
     },
     "execution_count": 4,
     "metadata": {},
     "output_type": "execute_result"
    }
   ],
   "source": [
    "a = 1\n",
    "b = '2'\n",
    "a == b"
   ]
  },
  {
   "cell_type": "code",
   "execution_count": 6,
   "metadata": {},
   "outputs": [
    {
     "data": {
      "text/plain": [
       "False"
      ]
     },
     "execution_count": 6,
     "metadata": {},
     "output_type": "execute_result"
    }
   ],
   "source": [
    "0 is 1"
   ]
  },
  {
   "cell_type": "code",
   "execution_count": 7,
   "metadata": {},
   "outputs": [
    {
     "data": {
      "text/plain": [
       "False"
      ]
     },
     "execution_count": 7,
     "metadata": {},
     "output_type": "execute_result"
    }
   ],
   "source": [
    "a = 'Chenhe'\n",
    "b = 'qianxi'\n",
    "a>b"
   ]
  },
  {
   "cell_type": "markdown",
   "metadata": {},
   "source": [
    "## 字符串的比较使用ASCII值"
   ]
  },
  {
   "cell_type": "code",
   "execution_count": null,
   "metadata": {},
   "outputs": [],
   "source": []
  },
  {
   "cell_type": "markdown",
   "metadata": {},
   "source": [
    "## Markdown \n",
    "- https://github.com/younghz/Markdown"
   ]
  },
  {
   "cell_type": "markdown",
   "metadata": {},
   "source": [
    "## EP:\n",
    "- <img src=\"../Photo/34.png\"></img>\n",
    "- 输入一个数字，判断其实奇数还是偶数"
   ]
  },
  {
   "cell_type": "code",
   "execution_count": 8,
   "metadata": {},
   "outputs": [
    {
     "data": {
      "text/plain": [
       "0"
      ]
     },
     "execution_count": 8,
     "metadata": {},
     "output_type": "execute_result"
    }
   ],
   "source": [
    "int(False)"
   ]
  },
  {
   "cell_type": "code",
   "execution_count": null,
   "metadata": {},
   "outputs": [],
   "source": [
    "if condition:\n",
    "    pass\n",
    "else:\n",
    "    pass"
   ]
  },
  {
   "cell_type": "code",
   "execution_count": 22,
   "metadata": {},
   "outputs": [
    {
     "name": "stdout",
     "output_type": "stream",
     "text": [
      "请输入一个整数4\n",
      "a是偶数\n"
     ]
    }
   ],
   "source": [
    "a = eval(input('请输入一个整数'))\n",
    "if a%2==0:\n",
    "    print('a是偶数')\n",
    "if a%2!=0:\n",
    "    print('a是奇数')"
   ]
  },
  {
   "cell_type": "markdown",
   "metadata": {},
   "source": [
    "## 产生随机数字\n",
    "- 函数random.randint(a,b) 可以用来产生一个a和b之间且包括a和b的随机整数"
   ]
  },
  {
   "cell_type": "code",
   "execution_count": 9,
   "metadata": {},
   "outputs": [
    {
     "data": {
      "text/plain": [
       "True"
      ]
     },
     "execution_count": 9,
     "metadata": {},
     "output_type": "execute_result"
    }
   ],
   "source": [
    "bool(4)"
   ]
  },
  {
   "cell_type": "markdown",
   "metadata": {},
   "source": [
    "产生一个随机数，你去输入，如果你输入的数大于随机数，那么就告诉你太大了，反之，太小了，\n",
    "然后你一直输入，知道它满意为止"
   ]
  },
  {
   "cell_type": "code",
   "execution_count": 1,
   "metadata": {},
   "outputs": [],
   "source": [
    "import random"
   ]
  },
  {
   "cell_type": "code",
   "execution_count": 2,
   "metadata": {},
   "outputs": [
    {
     "data": {
      "text/plain": [
       "3"
      ]
     },
     "execution_count": 2,
     "metadata": {},
     "output_type": "execute_result"
    }
   ],
   "source": [
    "random.randint(2,3)"
   ]
  },
  {
   "cell_type": "code",
   "execution_count": 1,
   "metadata": {},
   "outputs": [],
   "source": [
    "import random"
   ]
  },
  {
   "cell_type": "code",
   "execution_count": 2,
   "metadata": {},
   "outputs": [],
   "source": [
    "a = random.randint(4,8)"
   ]
  },
  {
   "cell_type": "markdown",
   "metadata": {},
   "source": [
    "##  其他random方法\n",
    "- random.random 返回0.0到1.0之间前闭后开区间的随机浮点\n",
    "- random.randrange(a,b) 前闭后开"
   ]
  },
  {
   "cell_type": "code",
   "execution_count": 3,
   "metadata": {},
   "outputs": [
    {
     "name": "stdout",
     "output_type": "stream",
     "text": [
      "请输入一个随机数5\n",
      "数太小\n",
      "请输入一个随机数6\n",
      "数太小\n",
      "请输入一个随机数4\n",
      "数太小\n",
      "请输入一个随机数6\n",
      "数太小\n",
      "请输入一个随机数7\n",
      "满意\n"
     ]
    }
   ],
   "source": [
    "while 1:\n",
    "    b = eval(input('请输入一个随机数'))\n",
    "    if b>a:\n",
    "        print('数太大')\n",
    "    if b<a:\n",
    "        print('数太小')\n",
    "    if b==a:\n",
    "        print('满意')\n",
    "        break"
   ]
  },
  {
   "cell_type": "code",
   "execution_count": null,
   "metadata": {},
   "outputs": [],
   "source": []
  },
  {
   "cell_type": "markdown",
   "metadata": {},
   "source": [
    "## EP：\n",
    "- 产生两个随机整数number1和number2，然后显示给用户，使用户输入数字的和，并判定其是否正确\n",
    "- 进阶:写一个随机序号点名程序"
   ]
  },
  {
   "cell_type": "code",
   "execution_count": 3,
   "metadata": {},
   "outputs": [],
   "source": [
    "import random"
   ]
  },
  {
   "cell_type": "code",
   "execution_count": 6,
   "metadata": {},
   "outputs": [
    {
     "name": "stdout",
     "output_type": "stream",
     "text": [
      "6 7\n",
      "请输入两个整数和12\n",
      "错误\n"
     ]
    }
   ],
   "source": [
    "a = random.randint(5,7)\n",
    "b = random.randint(5,7)\n",
    "print(a,b)\n",
    "c = eval(input('请输入两个整数和'))\n",
    "if c==a+b:\n",
    "    print('正确')\n",
    "else:\n",
    "    print('错误')"
   ]
  },
  {
   "cell_type": "code",
   "execution_count": 10,
   "metadata": {},
   "outputs": [
    {
     "name": "stdout",
     "output_type": "stream",
     "text": [
      "5 7\n"
     ]
    }
   ],
   "source": [
    "a = random.randint(5,7)\n",
    "b = random.randint(5,7)\n",
    "print(a,b)"
   ]
  },
  {
   "cell_type": "code",
   "execution_count": 11,
   "metadata": {},
   "outputs": [
    {
     "name": "stdout",
     "output_type": "stream",
     "text": [
      "请输入两个整数和12\n",
      "正确\n",
      "请输入两个整数和4\n",
      "错误\n",
      "请输入两个整数和5\n",
      "错误\n",
      "请输入两个整数和12\n",
      "正确\n",
      "请输入两个整数和15\n",
      "错误\n"
     ]
    }
   ],
   "source": [
    "for i in range(5):\n",
    "    c = eval(input('请输入两个整数和'))\n",
    "    if c==a+b:\n",
    "        print('正确')\n",
    "    else:\n",
    "        print('错误')"
   ]
  },
  {
   "cell_type": "code",
   "execution_count": 19,
   "metadata": {},
   "outputs": [
    {
     "name": "stdout",
     "output_type": "stream",
     "text": [
      "请输入任意一个整数6\n",
      "1 可以整除\n",
      "2 可以整除\n",
      "3 可以整除\n"
     ]
    }
   ],
   "source": [
    "a = eval(input('请输入任意一个整数'))\n",
    "for i in range(1,a):\n",
    "    if a%i== 0:\n",
    "        print(i,'可以整除')"
   ]
  },
  {
   "cell_type": "markdown",
   "metadata": {},
   "source": [
    "## if语句\n",
    "- 如果条件正确就执行一个单向if语句，亦即当条件为真的时候才执行if内部的语句\n",
    "- Python有很多选择语句:\n",
    "> - 单向if \n",
    "  - 双向if-else\n",
    "  - 嵌套if\n",
    "  - 多向if-elif-else\n",
    "  \n",
    "- 注意：当语句含有子语句的时候，那么一定至少要有一个缩进，也就是说如果有儿子存在，那么一定要缩进\n",
    "- 切记不可tab键和space混用，单用tab 或者 space\n",
    "- 当你输出的结果是无论if是否为真时都需要显示时，语句应该与if对齐"
   ]
  },
  {
   "cell_type": "markdown",
   "metadata": {},
   "source": [
    "## EP：\n",
    "- 用户输入一个数字，判断其实奇数还是偶数\n",
    "- 进阶：可以查看下4.5实例研究猜生日"
   ]
  },
  {
   "cell_type": "markdown",
   "metadata": {},
   "source": [
    "## 双向if-else 语句\n",
    "- 如果条件为真，那么走if内部语句，否则走else内部语句"
   ]
  },
  {
   "cell_type": "code",
   "execution_count": null,
   "metadata": {},
   "outputs": [],
   "source": [
    "if co:\n",
    "    if con:\n",
    "        do\n",
    "    else:\n",
    "        other\n",
    "    do\n",
    "else:\n",
    "    other"
   ]
  },
  {
   "cell_type": "code",
   "execution_count": 37,
   "metadata": {},
   "outputs": [
    {
     "name": "stdout",
     "output_type": "stream",
     "text": [
      "0代表否，1代表是\n",
      "请输入人名易烊千玺\n",
      "是否有钱（0/1）1\n",
      "接着处\n",
      "是否帅（0/1）1\n",
      "接着处\n",
      "是否有媳妇（0/1）0\n",
      "就地结婚吧！\n"
     ]
    }
   ],
   "source": [
    "print('0代表否，1代表是')\n",
    "a = input('请输入人名')\n",
    "b = eval(input('是否有钱（0/1）'))\n",
    "if b==1:\n",
    "    print('接着处')\n",
    "    c = eval(input('是否帅（0/1）'))\n",
    "    if c==1:\n",
    "        print('接着处')\n",
    "        d = eval(input('是否有媳妇（0/1）'))\n",
    "        if d==0:\n",
    "            print('就地结婚吧！')\n",
    "        else:\n",
    "            print('Gun')\n",
    "    else:\n",
    "         print('Gun')\n",
    "else:\n",
    "    print('Gun')\n"
   ]
  },
  {
   "cell_type": "code",
   "execution_count": null,
   "metadata": {},
   "outputs": [],
   "source": []
  },
  {
   "cell_type": "markdown",
   "metadata": {},
   "source": [
    "## EP：\n",
    "- 产生两个随机整数number1和number2，然后显示给用户，使用户输入数字，并判定其是否正确,如果正确打印“you‘re correct”，否则打印正确错误"
   ]
  },
  {
   "cell_type": "markdown",
   "metadata": {},
   "source": [
    "## 嵌套if 和多向if-elif-else\n",
    "![](../Photo/35.png)"
   ]
  },
  {
   "cell_type": "code",
   "execution_count": 58,
   "metadata": {},
   "outputs": [
    {
     "name": "stdout",
     "output_type": "stream",
     "text": [
      "0代表否，1代表是\n",
      "请输入人名yiyangqianxi\n",
      "是否有钱（0/1）1\n",
      "是否帅（0/1）1\n",
      "是否有媳妇（0/1）1\n",
      "Gun\n"
     ]
    }
   ],
   "source": [
    "print('0代表否，1代表是')\n",
    "a = input('请输入人名')\n",
    "b = eval(input('是否有钱（0/1）'))\n",
    "if b==1:\n",
    "    c = eval(input('是否帅（0/1）'))\n",
    "elif b==0:\n",
    "    print('gun')\n",
    "if c==1:\n",
    "    d = eval(input('是否有媳妇（0/1）'))\n",
    "elif c==0:\n",
    "    print('gun')\n",
    "if d==0:\n",
    "    print('就地结婚吧！')  \n",
    "else:\n",
    "    print('Gun')\n"
   ]
  },
  {
   "cell_type": "markdown",
   "metadata": {},
   "source": [
    "## EP：\n",
    "- 提示用户输入一个年份，然后显示表示这一年的动物\n",
    "![](../Photo/36.png)\n",
    "- 计算身体质量指数的程序\n",
    "- BMI = 以千克为单位的体重除以以米为单位的身高的平方\n",
    "![](../Photo/37.png)"
   ]
  },
  {
   "cell_type": "code",
   "execution_count": 1,
   "metadata": {},
   "outputs": [
    {
     "name": "stdout",
     "output_type": "stream",
     "text": [
      "请输入年份1999\n",
      "兔\n"
     ]
    }
   ],
   "source": [
    "a = eval(input('请输入年份'))\n",
    "b = a%12\n",
    "if b==0:\n",
    "    print('猴')\n",
    "elif b==1:\n",
    "    print('鸡')\n",
    "elif b==2:\n",
    "    print('狗')\n",
    "elif b==3:\n",
    "    print('猪')\n",
    "elif b==4:\n",
    "    print('鼠')\n",
    "elif b==5:\n",
    "    print('牛')\n",
    "elif b==6:\n",
    "    print('虎')\n",
    "elif b==7:\n",
    "    print('兔')\n",
    "elif b==8:\n",
    "    print('龙')\n",
    "elif b==9:\n",
    "    print('蛇')\n",
    "elif b==10:\n",
    "    print('马')\n",
    "elif b==11:\n",
    "    print('羊')\n",
    "    \n"
   ]
  },
  {
   "cell_type": "code",
   "execution_count": 1,
   "metadata": {},
   "outputs": [
    {
     "name": "stdout",
     "output_type": "stream",
     "text": [
      "身高以米为单位，体重以千克为单位\n",
      "身高1.6\n",
      "体重44\n",
      "超轻\n"
     ]
    }
   ],
   "source": [
    "print('身高以米为单位，体重以千克为单位')\n",
    "a = eval(input('身高'))\n",
    "b = eval(input('体重'))\n",
    "BMI = b/a**2\n",
    "if BMI < 18.5:\n",
    "    print('超轻')\n",
    "elif 18.5<=BMT<25:\n",
    "    print('标准')\n",
    "elif 20<=BMI<30:\n",
    "    print('超重')\n",
    "else:\n",
    "    print('痴肥')\n"
   ]
  },
  {
   "cell_type": "markdown",
   "metadata": {},
   "source": [
    "## 逻辑运算符\n",
    "![](../Photo/38.png)"
   ]
  },
  {
   "cell_type": "markdown",
   "metadata": {},
   "source": [
    "![](../Photo/39.png)\n",
    "![](../Photo/40.png)"
   ]
  },
  {
   "cell_type": "code",
   "execution_count": null,
   "metadata": {},
   "outputs": [],
   "source": []
  },
  {
   "cell_type": "markdown",
   "metadata": {},
   "source": [
    "## EP：\n",
    "- 判定闰年：一个年份如果能被4整除但不能被100整除，或者能被400整除，那么这个年份就是闰年\n",
    "- 提示用户输入一个年份，并返回是否是闰年\n",
    "- 提示用户输入一个数字，判断其是否为水仙花数"
   ]
  },
  {
   "cell_type": "code",
   "execution_count": 1,
   "metadata": {},
   "outputs": [
    {
     "name": "stdout",
     "output_type": "stream",
     "text": [
      "请输入一个年份2004\n",
      "闰年\n"
     ]
    }
   ],
   "source": [
    "a = eval(input('请输入一个年份'))\n",
    "if a%4 ==0 and a%100!=0 or a%400==0:\n",
    "    print('闰年')\n",
    "else:\n",
    "    print('平年')"
   ]
  },
  {
   "cell_type": "code",
   "execution_count": 5,
   "metadata": {},
   "outputs": [
    {
     "name": "stdout",
     "output_type": "stream",
     "text": [
      "请输入一个数字153\n",
      "是\n"
     ]
    }
   ],
   "source": [
    "a = eval(input('请输入一个数字'))\n",
    "x1 = a//100\n",
    "x2 = a//10%10\n",
    "x3 = a%10\n",
    "if a==x1**3+x2**3+x3**3:\n",
    "    print('是')\n",
    "else:\n",
    "    print('否')"
   ]
  },
  {
   "cell_type": "code",
   "execution_count": 11,
   "metadata": {},
   "outputs": [
    {
     "name": "stdout",
     "output_type": "stream",
     "text": [
      "153 水仙花\n",
      "370 水仙花\n",
      "371 水仙花\n",
      "407 水仙花\n"
     ]
    }
   ],
   "source": [
    "for i in range(100,1000):\n",
    "    x1 = i//100\n",
    "    x2 = i//10%10\n",
    "    x3 = i%10\n",
    "    if i == x1**3+x2**3+x3**3:\n",
    "        print(i,'水仙花')"
   ]
  },
  {
   "cell_type": "markdown",
   "metadata": {},
   "source": [
    "## 实例研究：彩票\n",
    "![](../Photo/41.png)"
   ]
  },
  {
   "cell_type": "markdown",
   "metadata": {},
   "source": [
    "# Homework\n",
    "- 1\n",
    "![](../Photo/42.png)"
   ]
  },
  {
   "cell_type": "code",
   "execution_count": 2,
   "metadata": {},
   "outputs": [
    {
     "name": "stdout",
     "output_type": "stream",
     "text": [
      "1\n",
      "3\n",
      "1\n",
      "-0.3819660112501051 -2.618033988749895\n",
      "1\n",
      "2\n",
      "1\n",
      "-1.0\n",
      "1\n",
      "2\n",
      "3\n",
      "The equation has no real roots\n"
     ]
    }
   ],
   "source": [
    "while 1:\n",
    "    a = eval(input())\n",
    "    b = eval(input())\n",
    "    c = eval(input())\n",
    "    r1 = (-b+(b**2-4*a*c)**0.5)/2*a\n",
    "    r2 = (-b-(b**2-4*a*c)**0.5)/2*a\n",
    "    pan = b**2-4*a*c\n",
    "    if pan>0:\n",
    "        print(r1,r2)\n",
    "    if pan==0:\n",
    "        print(r1)\n",
    "    if pan<0:\n",
    "        print('The equation has no real roots')\n",
    "        break"
   ]
  },
  {
   "cell_type": "markdown",
   "metadata": {},
   "source": [
    "- 2\n",
    "![](../Photo/43.png)"
   ]
  },
  {
   "cell_type": "code",
   "execution_count": 12,
   "metadata": {},
   "outputs": [],
   "source": [
    "import random"
   ]
  },
  {
   "cell_type": "code",
   "execution_count": 15,
   "metadata": {},
   "outputs": [
    {
     "name": "stdout",
     "output_type": "stream",
     "text": [
      "7 22\n",
      "请输入两个整数之和33\n",
      "假\n"
     ]
    }
   ],
   "source": [
    "a = random.randint(1,100)\n",
    "b = random.randint(1,100)\n",
    "print(a,b)\n",
    "c = eval(input('请输入两个整数之和'))\n",
    "if c == a+b:\n",
    "    print('真')\n",
    "else:\n",
    "    print('假')\n",
    "\n",
    "                   "
   ]
  },
  {
   "cell_type": "markdown",
   "metadata": {},
   "source": [
    "- 3\n",
    "![](../Photo/44.png)"
   ]
  },
  {
   "cell_type": "code",
   "execution_count": 49,
   "metadata": {},
   "outputs": [
    {
     "name": "stdout",
     "output_type": "stream",
     "text": [
      "请输入星期几（0：星期天，1：星期一，2：星期二，3：星期三，4：星期四，5：星期五，6：星期六）1\n",
      "请输入天数3\n",
      "Thursday\n"
     ]
    }
   ],
   "source": [
    "a = eval(input('请输入星期几（0：星期天，1：星期一，2：星期二，3：星期三，4：星期四，5：星期五，6：星期六）'))\n",
    "b = eval(input('请输入天数'))\n",
    "f = (a+b)%7\n",
    "if f == 0:\n",
    "    print('Sunday')\n",
    "elif f == 1:\n",
    "    print('Monday')\n",
    "elif f ==2:\n",
    "    print('Tuesday')\n",
    "elif f==3:\n",
    "    print('Wednesday')\n",
    "elif f==4:\n",
    "    print('Thursday')\n",
    "elif f==5:\n",
    "    print('Friday')\n",
    "elif f==6:\n",
    "    print('Saturday')\n",
    "         "
   ]
  },
  {
   "cell_type": "code",
   "execution_count": 50,
   "metadata": {},
   "outputs": [
    {
     "name": "stdout",
     "output_type": "stream",
     "text": [
      "请输入星期几（0：星期天，1：星期一，2：星期二，3：星期三，4：星期四，5：星期五，6：星期六）0\n",
      "请输入天数31\n",
      "Wednesday\n"
     ]
    }
   ],
   "source": [
    "a = eval(input('请输入星期几（0：星期天，1：星期一，2：星期二，3：星期三，4：星期四，5：星期五，6：星期六）'))\n",
    "b = eval(input('请输入天数'))\n",
    "f = (a+b)%7\n",
    "if f == 0:\n",
    "    print('Sunday')\n",
    "elif f == 1:\n",
    "    print('Monday')\n",
    "elif f ==2:\n",
    "    print('Tuesday')\n",
    "elif f==3:\n",
    "    print('Wednesday')\n",
    "elif f==4:\n",
    "    print('Thursday')\n",
    "elif f==5:\n",
    "    print('Friday')\n",
    "elif f==6:\n",
    "    print('Saturday')\n",
    "         "
   ]
  },
  {
   "cell_type": "code",
   "execution_count": null,
   "metadata": {},
   "outputs": [],
   "source": []
  },
  {
   "cell_type": "markdown",
   "metadata": {},
   "source": [
    "- 4\n",
    "![](../Photo/45.png)"
   ]
  },
  {
   "cell_type": "code",
   "execution_count": 17,
   "metadata": {},
   "outputs": [
    {
     "name": "stdout",
     "output_type": "stream",
     "text": [
      "1\n",
      "5\n",
      "0\n",
      "5 1 0\n"
     ]
    }
   ],
   "source": [
    "a = eval(input())\n",
    "b = eval(input())\n",
    "c = eval(input())\n",
    "if a>b>c:\n",
    "    print(a,b,c)\n",
    "elif a>c>b:\n",
    "    print(a,c,b)\n",
    "elif b>c>a:\n",
    "    print(b,c,a)\n",
    "elif b>a>c:\n",
    "    print(b,a,c)\n",
    "elif c>a>b:\n",
    "    print(c,a,b)\n",
    "elif(c>b>a):\n",
    "    print(c,b,a)\n"
   ]
  },
  {
   "cell_type": "markdown",
   "metadata": {},
   "source": [
    "- 5\n",
    "![](../Photo/46.png)"
   ]
  },
  {
   "cell_type": "code",
   "execution_count": 18,
   "metadata": {},
   "outputs": [
    {
     "name": "stdout",
     "output_type": "stream",
     "text": [
      "请输入第一种包装重量50\n",
      "请输入第一种包装价钱24.59\n",
      "请输入第二种包装重量25\n",
      "请输入第二种包装价钱11.99\n",
      "Package 2 has the better price\n"
     ]
    }
   ],
   "source": [
    "w1 = eval(input('请输入第一种包装重量'))\n",
    "p1 = eval(input('请输入第一种包装价钱'))\n",
    "w2 = eval(input('请输入第二种包装重量'))\n",
    "p2 = eval(input('请输入第二种包装价钱'))\n",
    "a = p1/w1\n",
    "b = p2/w2\n",
    "if a>b:\n",
    "    print('Package 2 has the better price')\n",
    "else:\n",
    "    print('Package 1 has the better price')"
   ]
  },
  {
   "cell_type": "markdown",
   "metadata": {},
   "source": [
    "- 6\n",
    "![](../Photo/47.png)"
   ]
  },
  {
   "cell_type": "code",
   "execution_count": 3,
   "metadata": {},
   "outputs": [
    {
     "name": "stdout",
     "output_type": "stream",
     "text": [
      "请输入一个年份2000\n",
      "请输入一个月份2\n",
      "2000 年 2 月份有29天\n"
     ]
    }
   ],
   "source": [
    "a = eval(input('请输入一个年份'))\n",
    "b = eval(input('请输入一个月份'))\n",
    "if b==2 and a%4 ==0 and a%100!=0 or a%400==0:\n",
    "    print(a,'年',2,'月份有29天')\n",
    "    if b ==1 or b==3 or b==5 or b==7 or b==8 or b==10 or b==12:\n",
    "        print(a,'年',b,'月份有31天') \n",
    "    elif b == 4 or b==6 or b==9 or b==11:\n",
    "        print(a,'年',b,'月份有30天')\n",
    "else:\n",
    "        print(a,'年',2,'月份有28天')\n",
    "     "
   ]
  },
  {
   "cell_type": "code",
   "execution_count": null,
   "metadata": {},
   "outputs": [],
   "source": []
  },
  {
   "cell_type": "markdown",
   "metadata": {},
   "source": [
    "- 7\n",
    "![](../Photo/48.png)"
   ]
  },
  {
   "cell_type": "code",
   "execution_count": 8,
   "metadata": {},
   "outputs": [],
   "source": [
    "import random"
   ]
  },
  {
   "cell_type": "code",
   "execution_count": 11,
   "metadata": {},
   "outputs": [
    {
     "name": "stdout",
     "output_type": "stream",
     "text": [
      "0代表反面，1代表正面\n",
      "请输入猜测值0\n",
      "错误\n"
     ]
    }
   ],
   "source": [
    "print('0代表反面，1代表正面')\n",
    "a = random.randint(0,1)\n",
    "b = eval(input('请输入猜测值'))\n",
    "if a==b:\n",
    "    print('正确')\n",
    "else:\n",
    "    print('错误')"
   ]
  },
  {
   "cell_type": "code",
   "execution_count": null,
   "metadata": {},
   "outputs": [],
   "source": []
  },
  {
   "cell_type": "markdown",
   "metadata": {},
   "source": [
    "- 8\n",
    "![](../Photo/49.png)"
   ]
  },
  {
   "cell_type": "code",
   "execution_count": 15,
   "metadata": {},
   "outputs": [
    {
     "name": "stdout",
     "output_type": "stream",
     "text": [
      "0代表剪刀，1代表石头,2代表布\n",
      "请输入猜测值2\n",
      "输\n"
     ]
    }
   ],
   "source": [
    "print('0代表剪刀，1代表石头,2代表布')\n",
    "a = random.randint(0,2)\n",
    "b = eval(input('请输入猜测值'))\n",
    "if a==b:\n",
    "    print('平局')\n",
    "elif a==0 and b==1:\n",
    "    print('赢')\n",
    "elif a==1 and b==0:\n",
    "    print('输')\n",
    "elif a==0 and b==2:\n",
    "    print('输')\n",
    "elif a==2 and b==0:\n",
    "    print('赢')\n",
    "elif a==1 and b==2:\n",
    "    print('输')\n",
    "elif a==2 and b==1:\n",
    "    print('赢')   "
   ]
  },
  {
   "cell_type": "markdown",
   "metadata": {},
   "source": [
    "- 9\n",
    "![](../Photo/50.png)"
   ]
  },
  {
   "cell_type": "code",
   "execution_count": 33,
   "metadata": {},
   "outputs": [
    {
     "name": "stdout",
     "output_type": "stream",
     "text": [
      "请输入年份2013\n",
      "请输入月份1\n",
      "请输入天数25\n",
      "6\n",
      "0：星期六，1：星期日，2：星期一，3：星期二，4：星期三，5：星期四，6：星期五\n"
     ]
    }
   ],
   "source": [
    "y = eval(input('请输入年份'))\n",
    "m = eval(input('请输入月份'))\n",
    "q = eval(input('请输入天数'))\n",
    "h = (q+((26*(m+1))//10+(y//100)+((y//100)//4)+((y%100)//4)+5*(y//100)))%7\n",
    "if m ==1:\n",
    "    h=(q+(26*(13+1))//10+((y-1)%100)+(((y-1)%100)//4)+(((y-1)//100)//4)+5*((y-1)//100))%7\n",
    "    print(h)\n",
    "elif m==2:\n",
    "    h=(q+(26*(14+1))//10+k((y-1)%100)+(((y-1)%100)//4)+(((y-1)//100)//4)+5*((y-1)//100))%7\n",
    "    print(h)\n",
    "print('0：星期六，1：星期日，2：星期一，3：星期二，4：星期三，5：星期四，6：星期五')   \n"
   ]
  },
  {
   "cell_type": "markdown",
   "metadata": {},
   "source": [
    "- 10\n",
    "![](../Photo/51.png)"
   ]
  },
  {
   "cell_type": "code",
   "execution_count": 3,
   "metadata": {},
   "outputs": [],
   "source": [
    "import random"
   ]
  },
  {
   "cell_type": "code",
   "execution_count": 14,
   "metadata": {},
   "outputs": [
    {
     "name": "stdout",
     "output_type": "stream",
     "text": [
      "Jack plum\n"
     ]
    }
   ],
   "source": [
    "a = random.randint(1,13)\n",
    "b = random.randint(1,4)\n",
    "if a==1:\n",
    "    a = 'Ace'\n",
    "if a ==11:\n",
    "    a = 'Jack'\n",
    "if a == 12:\n",
    "    a = 'Queen'\n",
    "if a ==13:\n",
    "    a = 'King'\n",
    "elif b==1:\n",
    "    b = 'plum'\n",
    "elif b ==2:\n",
    "    b = 'hearts'\n",
    "elif b ==3:\n",
    "    b = 'blossoms'\n",
    "elif b ==4:\n",
    "    b = 'Spades'\n",
    "print(a,b)    \n",
    "    \n",
    "\n"
   ]
  },
  {
   "cell_type": "markdown",
   "metadata": {},
   "source": [
    "- 11\n",
    "![](../Photo/52.png)"
   ]
  },
  {
   "cell_type": "code",
   "execution_count": 4,
   "metadata": {},
   "outputs": [
    {
     "name": "stdout",
     "output_type": "stream",
     "text": [
      "请输入一个三位数123\n",
      "123 is not a palindrome\n"
     ]
    }
   ],
   "source": [
    "a = eval(input('请输入一个三位数'))\n",
    "if a%10==a//100:\n",
    "    print(a ,'is a palindrome')\n",
    "elif a%10!=a//100:\n",
    "    print(a ,'is not a palindrome')"
   ]
  },
  {
   "cell_type": "code",
   "execution_count": 41,
   "metadata": {},
   "outputs": [
    {
     "name": "stdout",
     "output_type": "stream",
     "text": [
      "请输入一个三位数121\n",
      "121 is a palindrome\n"
     ]
    }
   ],
   "source": [
    "a = eval(input('请输入一个三位数'))\n",
    "if a%10==a//100:\n",
    "    print(a ,'is a palindrome')\n",
    "elif a%10!=a//100:\n",
    "    print(a ,'is not a palindrome')"
   ]
  },
  {
   "cell_type": "markdown",
   "metadata": {},
   "source": [
    "- 12\n",
    "![](../Photo/53.png)"
   ]
  },
  {
   "cell_type": "code",
   "execution_count": 42,
   "metadata": {},
   "outputs": [
    {
     "name": "stdout",
     "output_type": "stream",
     "text": [
      "请输入三个边1,1,1\n",
      "合法\n",
      "3\n"
     ]
    }
   ],
   "source": [
    "a,b,c=eval(input('请输入三个边'))\n",
    "if a+b>c:\n",
    "    print('合法')\n",
    "    if a+b>c:\n",
    "        print(a+b+c)\n",
    "else:\n",
    "    print('非法')"
   ]
  },
  {
   "cell_type": "code",
   "execution_count": 46,
   "metadata": {},
   "outputs": [
    {
     "name": "stdout",
     "output_type": "stream",
     "text": [
      "请输入三个边2,6,2\n",
      "非法\n"
     ]
    }
   ],
   "source": [
    "a,b,c=eval(input('请输入三个边'))\n",
    "if a+b>c and abs(a-b)<c:\n",
    "    print(a+b+c,'合法')\n",
    "else:\n",
    "    print('非法')"
   ]
  },
  {
   "cell_type": "code",
   "execution_count": null,
   "metadata": {},
   "outputs": [],
   "source": []
  }
 ],
 "metadata": {
  "kernelspec": {
   "display_name": "Python 3",
   "language": "python",
   "name": "python3"
  },
  "language_info": {
   "codemirror_mode": {
    "name": "ipython",
    "version": 3
   },
   "file_extension": ".py",
   "mimetype": "text/x-python",
   "name": "python",
   "nbconvert_exporter": "python",
   "pygments_lexer": "ipython3",
   "version": "3.7.3"
  }
 },
 "nbformat": 4,
 "nbformat_minor": 2
}
